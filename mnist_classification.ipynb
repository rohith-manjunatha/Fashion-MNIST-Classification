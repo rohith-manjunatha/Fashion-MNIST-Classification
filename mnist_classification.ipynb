{
 "cells": [
  {
   "cell_type": "code",
   "execution_count": null,
   "metadata": {
    "id": "ODK8b2HLpM_e"
   },
   "outputs": [],
   "source": [
    "import pandas as pd\n",
    "import numpy as np\n",
    "import matplotlib.pyplot as plt\n",
    "import seaborn as sns\n",
    "from sklearn.metrics import mean_squared_error\n",
    "from sklearn import metrics\n",
    "from math import sqrt\n",
    "from sklearn.linear_model import LogisticRegression\n",
    "from sklearn.model_selection import GridSearchCV\n",
    "from sklearn.metrics import classification_report\n",
    "from sklearn.metrics import accuracy_score\n",
    "# Surpass Warnings\n",
    "import warnings\n",
    "warnings.filterwarnings(\"ignore\")"
   ]
  },
  {
   "cell_type": "code",
   "execution_count": null,
   "metadata": {
    "id": "GtZ9rKOspM83"
   },
   "outputs": [],
   "source": [
    "# Load the Fashion MNIST data\n",
    "training_data = pd.read_csv('fashion-mnist_train.csv')\n",
    "test_data = pd.read_csv('fashion-mnist_test.csv')"
   ]
  },
  {
   "cell_type": "markdown",
   "id": "b218b424",
   "metadata": {},
   "source": [
    "# Data Splitting and Visualization "
   ]
  },
  {
   "cell_type": "code",
   "execution_count": null,
   "metadata": {
    "id": "DbWdu4R6pM57"
   },
   "outputs": [],
   "source": [
    "# Split the training set into validation and training sets\n",
    "valid_data = training_data.tail(10000)\n",
    "train_data = training_data.head(50000)"
   ]
  },
  {
   "cell_type": "code",
   "execution_count": null,
   "metadata": {
    "colab": {
     "base_uri": "https://localhost:8080/",
     "height": 594
    },
    "id": "JiR6LQxaqB0z",
    "outputId": "73fbfcab-b93e-40ef-e7f5-a581c05071bd"
   },
   "outputs": [],
   "source": [
    "plt.figure(figsize=(10,10))\n",
    "for i in range(9):\n",
    "    plt.subplot(3,3,i+1)\n",
    "    plt.imshow(valid_data.iloc[i,1:].values.reshape((28,28)), cmap='gray')\n",
    "    plt.title(valid_data.iloc[i,0])\n",
    "    plt.xticks([])\n",
    "    plt.yticks([])\n",
    "plt.show()"
   ]
  },
  {
   "cell_type": "code",
   "execution_count": null,
   "metadata": {
    "id": "IPKh5LnSqByg"
   },
   "outputs": [],
   "source": [
    "X_train = train_data.iloc[:, 1:].values / 255.0\n",
    "y_train = train_data.iloc[:, 0].values\n",
    "X_valid = valid_data.iloc[:, 1:].values / 255.0\n",
    "y_valid = valid_data.iloc[:, 0].values\n",
    "X_test = test_data.iloc[:, 1:].values / 255.0\n",
    "y_test = test_data.iloc[:, 0].values"
   ]
  },
  {
   "cell_type": "code",
   "execution_count": null,
   "metadata": {
    "colab": {
     "base_uri": "https://localhost:8080/"
    },
    "id": "IUwwYfEYqidm",
    "outputId": "746b51af-4479-4f9c-9856-c008775e7370"
   },
   "outputs": [],
   "source": [
    "X_train"
   ]
  },
  {
   "cell_type": "code",
   "execution_count": null,
   "metadata": {
    "colab": {
     "base_uri": "https://localhost:8080/"
    },
    "id": "brYAVZRcqibM",
    "outputId": "efc50ff5-7348-4c7d-c2fd-d57e7136134e"
   },
   "outputs": [],
   "source": [
    "y_train"
   ]
  },
  {
   "cell_type": "code",
   "execution_count": null,
   "metadata": {
    "colab": {
     "base_uri": "https://localhost:8080/"
    },
    "id": "jCVrMCqSqiX3",
    "outputId": "3b0b7f92-abd0-4908-a261-548027a3bba2"
   },
   "outputs": [],
   "source": [
    "X_train.shape"
   ]
  },
  {
   "cell_type": "markdown",
   "id": "026e38a9",
   "metadata": {},
   "source": [
    "Dictionary to store all the **Models** and their **Accuracy** and **Precision** values "
   ]
  },
  {
   "cell_type": "code",
   "execution_count": null,
   "id": "2d8f1fb2",
   "metadata": {},
   "outputs": [],
   "source": [
    "accuracy_dic={'model':[],'accuracy':[],'precision':[]}"
   ]
  },
  {
   "cell_type": "code",
   "execution_count": null,
   "id": "40354553",
   "metadata": {},
   "outputs": [],
   "source": [
    "# Plotting performance\n",
    "def plot_perf(train_accuracy, valid_accuracy, test_accuracy, model):\n",
    "    plt.plot([train_accuracy, valid_accuracy, test_accuracy], label='Accuracy')\n",
    "    plt.legend()\n",
    "    plt.xticks(range(3), ['Training', 'Validation', 'Test'])\n",
    "    plt.title('Performance of '+model)\n",
    "    plt.show()"
   ]
  },
  {
   "cell_type": "markdown",
   "id": "918fba40",
   "metadata": {},
   "source": [
    "# Multinomial Logistic Regression (Softmax Regression)"
   ]
  },
  {
   "cell_type": "markdown",
   "metadata": {},
   "source": [
    "Using different C values to find the best fitting model "
   ]
  },
  {
   "cell_type": "code",
   "execution_count": null,
   "metadata": {
    "colab": {
     "base_uri": "https://localhost:8080/"
    },
    "id": "EiuCQgiQqBwP",
    "outputId": "25a76eab-d06e-4940-9417-2c118ae8756e"
   },
   "outputs": [],
   "source": [
    "# Train the logistic regression model\n",
    "# Trying out different hyperparameter values to find the best accuracy model\n",
    "%%time\n",
    "C = [0.01, 0.1, 1, 10, 100]\n",
    "accuracy = {'C':[], 'Accuracy':[]}\n",
    "logistic_models = {'C':[], 'Model':[]}\n",
    "for c in C:\n",
    "    # solver=saga for using large dataset and run faster\n",
    "    logistic_reg = LogisticRegression(multi_class='multinomial', C=c ,random_state=43, solver='saga')\n",
    "    logistic_models['Model'].append(logistic_reg.fit(X_train, y_train))\n",
    "    # Finding accuracy of the model using the validation data\n",
    "    accuracy['C'].append(c)\n",
    "    logistic_models['C'].append(c)\n",
    "    accuracy['Accuracy'].append(accuracy_score(y_valid,logistic_reg.predict(X_valid)))"
   ]
  },
  {
   "cell_type": "code",
   "execution_count": null,
   "metadata": {
    "colab": {
     "base_uri": "https://localhost:8080/",
     "height": 206
    },
    "id": "RYou3yjwqBrs",
    "outputId": "5b13e572-d1c8-404f-d60c-777ac50980f5"
   },
   "outputs": [],
   "source": [
    "accuracy_dataframe = pd.DataFrame.from_dict(accuracy)\n",
    "accuracy_dataframe"
   ]
  },
  {
   "cell_type": "code",
   "execution_count": null,
   "metadata": {
    "colab": {
     "base_uri": "https://localhost:8080/",
     "height": 206
    },
    "id": "k8IdGMBMqBpW",
    "outputId": "36a5a3e4-9b05-478c-b5c1-95b975688604"
   },
   "outputs": [],
   "source": [
    "model_dataframe = pd.DataFrame.from_dict(logistic_models)\n",
    "model_dataframe"
   ]
  },
  {
   "cell_type": "code",
   "execution_count": null,
   "metadata": {
    "colab": {
     "base_uri": "https://localhost:8080/"
    },
    "id": "honzkx0KqBnM",
    "outputId": "e606c905-b4b2-4acd-93cd-a457322af0c6"
   },
   "outputs": [],
   "source": [
    "c_values = accuracy['C']\n",
    "accuracy_values = accuracy['Accuracy']\n",
    "\n",
    "max_accuracy = max(accuracy_values)\n",
    "best_c = [c_values[i] for i in range(len(c_values)) if accuracy_values[i] == max_accuracy][0]\n",
    "print('Best C for Logistic Model:')\n",
    "best_c"
   ]
  },
  {
   "cell_type": "code",
   "execution_count": null,
   "metadata": {
    "colab": {
     "base_uri": "https://localhost:8080/"
    },
    "id": "fNRNO72MqBkx",
    "outputId": "59997bc4-103e-45e7-cc67-e9db070a96c3"
   },
   "outputs": [],
   "source": [
    "best_logistic_model = logistic_models['Model'][logistic_models['C'].index(best_c)]\n",
    "print('Best Logistic Model:')\n",
    "best_logistic_model"
   ]
  },
  {
   "cell_type": "markdown",
   "id": "e72b86a6",
   "metadata": {},
   "source": [
    "__Training Performance__"
   ]
  },
  {
   "cell_type": "code",
   "execution_count": null,
   "metadata": {
    "colab": {
     "base_uri": "https://localhost:8080/"
    },
    "id": "7z9wRSB4qBh7",
    "outputId": "348ccee4-a1f0-4f7e-c1e9-a2e2b612c424"
   },
   "outputs": [],
   "source": [
    "# Evaluate the model on the training set\n",
    "train_pred = best_logistic_model.predict(X_train)\n",
    "print(\"Training performance:\")\n",
    "print(classification_report(y_train, train_pred))"
   ]
  },
  {
   "cell_type": "markdown",
   "id": "905d5489",
   "metadata": {},
   "source": [
    "__Validation Performace__"
   ]
  },
  {
   "cell_type": "code",
   "execution_count": null,
   "metadata": {
    "colab": {
     "base_uri": "https://localhost:8080/"
    },
    "id": "5412yqc3qBf6",
    "outputId": "021d84a6-4acb-4b6a-dd22-e9e63fa5dd50"
   },
   "outputs": [],
   "source": [
    "# Evaluate the model on the validation set\n",
    "valid_pred = best_logistic_model.predict(X_valid)\n",
    "print(\"Validation performance:\")\n",
    "print(classification_report(y_valid, valid_pred))"
   ]
  },
  {
   "cell_type": "markdown",
   "id": "433a416d",
   "metadata": {},
   "source": [
    "__Testing Performace__ "
   ]
  },
  {
   "cell_type": "code",
   "execution_count": null,
   "metadata": {
    "colab": {
     "base_uri": "https://localhost:8080/"
    },
    "id": "kBmQAdbTqBdJ",
    "outputId": "f3c390a0-732a-4d6e-cf4d-2fcda4d0f8b4"
   },
   "outputs": [],
   "source": [
    "# Evaluate the model on the test set\n",
    "test_pred = best_logistic_model.predict(X_test)\n",
    "print(\"Testing performance:\")\n",
    "print(classification_report(y_test, test_pred))"
   ]
  },
  {
   "cell_type": "code",
   "execution_count": null,
   "metadata": {
    "id": "Io74mUr5qBPG"
   },
   "outputs": [],
   "source": [
    "train_accuracy = accuracy_score(y_train, train_pred)\n",
    "valid_accuracy = accuracy_score(y_valid, valid_pred)\n",
    "test_accuracy = accuracy_score(y_test, test_pred)\n",
    "def plot_perf(accuracy_score(y_train, train_pred), accuracy_score(y_valid, valid_pred), ccuracy_score(y_test, test_pred), 'Multinomial Logistic Regression')"
   ]
  },
  {
   "cell_type": "markdown",
   "metadata": {},
   "source": [
    "Printing accuracy "
   ]
  },
  {
   "cell_type": "code",
   "execution_count": null,
   "metadata": {},
   "outputs": [],
   "source": [
    "log_accuracy =  metrics.accuracy_score(y_valid,y_pred_log)\n",
    "log_precision = metrics.precision_score(y_valid,y_pred_log)\n",
    "\n",
    "accuracy_dic['model'].append(best_lr)\n",
    "accuracy_dic['accuracy'].append(round(log_accuracy,3))\n",
    "accuracy_dic['precision'].append(round(log_precision,3))\n",
    "\n",
    "print('Accuracy:',round(log_accuracy,3))\n",
    "print('Precision:',round(log_precision,3))"
   ]
  },
  {
   "cell_type": "markdown",
   "id": "75506645",
   "metadata": {},
   "source": [
    "__Plotting Confusion Matrix__"
   ]
  },
  {
   "cell_type": "code",
   "execution_count": null,
   "id": "39d855dc",
   "metadata": {},
   "outputs": [],
   "source": [
    "log_confusion_matrix = metrics.confusion_matrix(y_valid, y_pred_log)\n",
    "graph = metrics.ConfusionMatrixDisplay(log_confusion_matrix,display_labels=[False,True])\n",
    "graph.plot(cmap=plt.cm.Blues)\n",
    "plt.show()"
   ]
  },
  {
   "cell_type": "code",
   "execution_count": null,
   "metadata": {},
   "outputs": [],
   "source": []
  }
 ],
 "metadata": {
  "accelerator": "GPU",
  "colab": {
   "provenance": []
  },
  "gpuClass": "standard",
  "kernelspec": {
   "display_name": "Python 3 (ipykernel)",
   "language": "python",
   "name": "python3"
  },
  "language_info": {
   "codemirror_mode": {
    "name": "ipython",
    "version": 3
   },
   "file_extension": ".py",
   "mimetype": "text/x-python",
   "name": "python",
   "nbconvert_exporter": "python",
   "pygments_lexer": "ipython3",
   "version": "3.9.12"
  }
 },
 "nbformat": 4,
 "nbformat_minor": 1
}
